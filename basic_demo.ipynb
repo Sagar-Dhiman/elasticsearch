{
 "cells": [
  {
   "cell_type": "markdown",
   "id": "63bce345",
   "metadata": {},
   "source": [
    "# ElasticSearch\n",
    "- Elasticsearch is the distributed search and analytics engine\n",
    "- Elasticsearch provides near real-time search and analytics for all types of data. Whether you have structured or unstructured text, numerical data, or geospatial data, Elasticsearch can efficiently store and index it in a way that supports fast searches.\n",
    "- RESTful API as JOSN\n"
   ]
  },
  {
   "cell_type": "markdown",
   "id": "c6bec94b",
   "metadata": {},
   "source": [
    "## ElasticSearch Architecture\n",
    " - **Cluster:-** A cluster is a collection of one or more nodes that together hold the entire data. It provides distributed indexing, high availability and search capabilities across all nodes\n",
    "<img src=\"https://miro.medium.com/max/1400/0*DE7rZ2wWBOUhX_Fx.png\" width=\"500\" >\n",
    " - **Node:-** A node is a single server in a cluster, which stores data and participates in the cluster’s indexing and search capabilities.\n",
    " - **Shards:-** Elasticsearch facilitates High availability, fault tolerance, scalability by providing the ability to subdivide the index into multiple pieces called shards. Each shard can be hosted on any node within the cluster. We can set a number of shards manually inside index schema for a particular Index.\n",
    " - **Replicas:-** Elasticsearch allows you to make one or more copies of your index’s shards called replica shards or replica. We can set a number of replicas manually inside index schema for a particular Index.\n",
    "<img src=\"https://miro.medium.com/max/1400/1*vqubKEjlKABA57LUSr9YZA.png\" width=\"500\" >\n",
    " - **Index:-** An index is a collection of documents and is identified by a name. you can consider it as a database in RDBMS. we have to use the index name while performing indexing, search, update and delete operations against the documents in it.\n",
    " - **Document:-** A document is a basic unit of information that can be indexed. It is stored in JSON format which is a global internet data interchange format.\n"
   ]
  },
  {
   "cell_type": "markdown",
   "id": "1c3ddb6a",
   "metadata": {},
   "source": [
    "## Installation\n",
    "\n",
    "- **Linux and MacOS** tar.gz archives\n",
    "  - The tar.gz archives are available for installation on any Linux distribution and MacOS.<br />\n",
    " [Install Elasticsearch from archive on Linux or MacOS](https://www.elastic.co/guide/en/elasticsearch/reference/current/targz.html)\n",
    "\n",
    "- **Windows** .zip archive\n",
    "  - The zip archive is suitable for installation on Windows.<br />\n",
    " [Install Elasticsearch with .zip on Windows](https://www.elastic.co/guide/en/elasticsearch/reference/current/zip-windows.html)\n",
    "\n",
    "- **deb**\n",
    "  - The deb package is suitable for Debian, Ubuntu, and other Debian-based systems. Debian packages may be downloaded from the Elasticsearch website or from our Debian repository.<br />\n",
    " [Install Elasticsearch with Debian Package](https://www.elastic.co/guide/en/elasticsearch/reference/current/deb.html)\n",
    "\n",
    "- **rpm**\n",
    "  - The rpm package is suitable for installation on Red Hat, Centos, SLES, OpenSuSE and other RPM-based systems. RPMs may be downloaded from the Elasticsearch website or from our RPM repository.<br />\n",
    " [Install Elasticsearch with RPM](https://www.elastic.co/guide/en/elasticsearch/reference/current/rpm.html)\n",
    "\n",
    "----------------------------------\n",
    "\n",
    "- ***Docker***\n",
    "  - Images are available for running Elasticsearch as Docker containers. They may be downloaded from the Elastic Docker Registry.<br />\n",
    " [Install Elasticsearch with Docker](https://github.com/Sagar-Dhiman/elasticsearch.git)"
   ]
  },
  {
   "cell_type": "markdown",
   "id": "70b41518",
   "metadata": {},
   "source": [
    "## Elastic Users\n",
    "<img src=\"https://miro.medium.com/proxy/1*D-GjP7Uo1DKDT_Qd307I2g.jpeg\" width=\"500\" >"
   ]
  },
  {
   "cell_type": "markdown",
   "id": "7ec34c36",
   "metadata": {},
   "source": [
    "## Importing and testing"
   ]
  },
  {
   "cell_type": "code",
   "execution_count": 57,
   "id": "d1b5665b",
   "metadata": {},
   "outputs": [],
   "source": [
    "from elasticsearch import Elasticsearch\n",
    "es = Elasticsearch()"
   ]
  },
  {
   "cell_type": "code",
   "execution_count": 58,
   "id": "39c4ada6",
   "metadata": {},
   "outputs": [
    {
     "data": {
      "text/plain": [
       "True"
      ]
     },
     "execution_count": 58,
     "metadata": {},
     "output_type": "execute_result"
    }
   ],
   "source": [
    "es.ping()"
   ]
  },
  {
   "cell_type": "markdown",
   "id": "e6436ebd",
   "metadata": {},
   "source": [
    "## Creating index"
   ]
  },
  {
   "cell_type": "code",
   "execution_count": 59,
   "id": "40679cc2",
   "metadata": {},
   "outputs": [],
   "source": [
    "employee_es_index = 'test_employee_data'"
   ]
  },
  {
   "cell_type": "code",
   "execution_count": 60,
   "id": "29b92c77",
   "metadata": {},
   "outputs": [],
   "source": [
    "test_employee_data_mapping = {\n",
    "  \"mappings\": {\n",
    "    \"dynamic\": \"false\",\n",
    "    \"properties\": {\n",
    "      \"first_name\": {\n",
    "        \"type\": \"text\"\n",
    "      },\n",
    "         \"last_name\": {\n",
    "        \"type\": \"text\"\n",
    "      },\n",
    "         \"age\": {\n",
    "        \"type\": \"integer\"\n",
    "      },\n",
    "         \"about\": {\n",
    "        \"type\": \"text\"\n",
    "      },\n",
    "         \"interests\": {\n",
    "        \"type\": \"keyword\"\n",
    "      }\n",
    "    }\n",
    "  }         \n",
    "}"
   ]
  },
  {
   "cell_type": "code",
   "execution_count": 61,
   "id": "dbdc63f4",
   "metadata": {
    "scrolled": true
   },
   "outputs": [
    {
     "data": {
      "text/plain": [
       "{'acknowledged': True,\n",
       " 'shards_acknowledged': True,\n",
       " 'index': 'test_employee_data'}"
      ]
     },
     "execution_count": 61,
     "metadata": {},
     "output_type": "execute_result"
    }
   ],
   "source": [
    "es.indices.create(employee_es_index,test_employee_data_mapping)"
   ]
  },
  {
   "cell_type": "code",
   "execution_count": 62,
   "id": "575bb559",
   "metadata": {},
   "outputs": [],
   "source": [
    "#es.indices.delete(index=employee_es_index) ##deleting index"
   ]
  },
  {
   "cell_type": "markdown",
   "id": "c9503a04",
   "metadata": {},
   "source": [
    "## Indexing data"
   ]
  },
  {
   "cell_type": "code",
   "execution_count": 63,
   "id": "237052b6",
   "metadata": {},
   "outputs": [],
   "source": [
    "id_ = 1\n",
    "\n",
    "data = {\"first_name\":\"John\",\n",
    "        \"last_name\":\"Smith\",\n",
    "        \"age\":25,\n",
    "        \"about\":\"I love to go rock climbing\",\n",
    "        \"interests\":['sports','music']} "
   ]
  },
  {
   "cell_type": "code",
   "execution_count": 64,
   "id": "a09b7d9d",
   "metadata": {},
   "outputs": [
    {
     "data": {
      "text/plain": [
       "{'_index': 'test_employee_data',\n",
       " '_type': '_doc',\n",
       " '_id': '1',\n",
       " '_version': 1,\n",
       " 'result': 'created',\n",
       " '_shards': {'total': 2, 'successful': 1, 'failed': 0},\n",
       " '_seq_no': 0,\n",
       " '_primary_term': 1}"
      ]
     },
     "execution_count": 64,
     "metadata": {},
     "output_type": "execute_result"
    }
   ],
   "source": [
    "es.index(index=employee_es_index,  body=data,id=id_)"
   ]
  },
  {
   "cell_type": "code",
   "execution_count": 65,
   "id": "2916e3ab",
   "metadata": {},
   "outputs": [],
   "source": [
    "id_ = 2\n",
    "\n",
    "data = {\"first_name\":\"Araya\",\n",
    "        \"last_name\":\"Smith\",\n",
    "        \"age\":22,\n",
    "        \"about\":\"I love to read books\",\n",
    "        \"interests\":['books','music']} "
   ]
  },
  {
   "cell_type": "code",
   "execution_count": 66,
   "id": "7de378e2",
   "metadata": {},
   "outputs": [
    {
     "data": {
      "text/plain": [
       "{'_index': 'test_employee_data',\n",
       " '_type': '_doc',\n",
       " '_id': '2',\n",
       " '_version': 1,\n",
       " 'result': 'created',\n",
       " '_shards': {'total': 2, 'successful': 1, 'failed': 0},\n",
       " '_seq_no': 1,\n",
       " '_primary_term': 1}"
      ]
     },
     "execution_count": 66,
     "metadata": {},
     "output_type": "execute_result"
    }
   ],
   "source": [
    "es.index(index=employee_es_index,  body=data,id=id_)"
   ]
  },
  {
   "cell_type": "markdown",
   "id": "9398e7a1",
   "metadata": {},
   "source": [
    "## Checking data"
   ]
  },
  {
   "cell_type": "code",
   "execution_count": 67,
   "id": "1cde5abe",
   "metadata": {
    "scrolled": true
   },
   "outputs": [
    {
     "data": {
      "text/plain": [
       "{'took': 3,\n",
       " 'timed_out': False,\n",
       " '_shards': {'total': 1, 'successful': 1, 'skipped': 0, 'failed': 0},\n",
       " 'hits': {'total': {'value': 2, 'relation': 'eq'},\n",
       "  'max_score': 1.0,\n",
       "  'hits': [{'_index': 'test_employee_data',\n",
       "    '_type': '_doc',\n",
       "    '_id': '1',\n",
       "    '_score': 1.0,\n",
       "    '_source': {'first_name': 'John',\n",
       "     'last_name': 'Smith',\n",
       "     'age': 25,\n",
       "     'about': 'I love to go rock climbing',\n",
       "     'interests': ['sports', 'music']}},\n",
       "   {'_index': 'test_employee_data',\n",
       "    '_type': '_doc',\n",
       "    '_id': '2',\n",
       "    '_score': 1.0,\n",
       "    '_source': {'first_name': 'Araya',\n",
       "     'last_name': 'Smith',\n",
       "     'age': 22,\n",
       "     'about': 'I love to read books',\n",
       "     'interests': ['books', 'music']}}]}}"
      ]
     },
     "execution_count": 67,
     "metadata": {},
     "output_type": "execute_result"
    }
   ],
   "source": [
    "es.search(index=employee_es_index, body={\"query\": {\"match_all\": {}}},size=10)"
   ]
  },
  {
   "cell_type": "markdown",
   "id": "e05f6a17",
   "metadata": {},
   "source": [
    "## Searching"
   ]
  },
  {
   "cell_type": "markdown",
   "id": "9f328b8c",
   "metadata": {},
   "source": [
    "Last Name"
   ]
  },
  {
   "cell_type": "code",
   "execution_count": 37,
   "id": "2c09aac3",
   "metadata": {},
   "outputs": [],
   "source": [
    "body = {\n",
    "            \"query\": {'match': {'last_name': {'query': \"smith\"}\n",
    "                }\n",
    "\n",
    "            }\n",
    "        }"
   ]
  },
  {
   "cell_type": "code",
   "execution_count": 38,
   "id": "cc70f4a4",
   "metadata": {
    "scrolled": false
   },
   "outputs": [
    {
     "data": {
      "text/plain": [
       "{'took': 1,\n",
       " 'timed_out': False,\n",
       " '_shards': {'total': 1, 'successful': 1, 'skipped': 0, 'failed': 0},\n",
       " 'hits': {'total': {'value': 2, 'relation': 'eq'},\n",
       "  'max_score': 0.18232156,\n",
       "  'hits': [{'_index': 'test_employee_data',\n",
       "    '_type': '_doc',\n",
       "    '_id': '1',\n",
       "    '_score': 0.18232156,\n",
       "    '_source': {'first_name': 'John',\n",
       "     'last_name': 'Smith',\n",
       "     'age': 25,\n",
       "     'about': 'I love to go rock climbing',\n",
       "     'interests': ['sports', 'music']}},\n",
       "   {'_index': 'test_employee_data',\n",
       "    '_type': '_doc',\n",
       "    '_id': '2',\n",
       "    '_score': 0.18232156,\n",
       "    '_source': {'first_name': 'Araya',\n",
       "     'last_name': 'Smith',\n",
       "     'age': 22,\n",
       "     'about': 'I love to read books',\n",
       "     'interests': ['books', 'music']}}]}}"
      ]
     },
     "execution_count": 38,
     "metadata": {},
     "output_type": "execute_result"
    }
   ],
   "source": [
    "es.search(index=employee_es_index, body=body)"
   ]
  },
  {
   "cell_type": "markdown",
   "id": "b3ad3b53",
   "metadata": {},
   "source": [
    "Interests"
   ]
  },
  {
   "cell_type": "code",
   "execution_count": 41,
   "id": "2a1a7bad",
   "metadata": {},
   "outputs": [],
   "source": [
    "body = {\n",
    "            \"query\": {'match': {'interests': {'query': \"books\"}\n",
    "                }\n",
    "\n",
    "            }\n",
    "        }"
   ]
  },
  {
   "cell_type": "code",
   "execution_count": 42,
   "id": "3ee14bd5",
   "metadata": {},
   "outputs": [
    {
     "data": {
      "text/plain": [
       "{'took': 2,\n",
       " 'timed_out': False,\n",
       " '_shards': {'total': 1, 'successful': 1, 'skipped': 0, 'failed': 0},\n",
       " 'hits': {'total': {'value': 1, 'relation': 'eq'},\n",
       "  'max_score': 0.8713851,\n",
       "  'hits': [{'_index': 'test_employee_data',\n",
       "    '_type': '_doc',\n",
       "    '_id': '2',\n",
       "    '_score': 0.8713851,\n",
       "    '_source': {'first_name': 'Araya',\n",
       "     'last_name': 'Smith',\n",
       "     'age': 22,\n",
       "     'about': 'I love to read books',\n",
       "     'interests': ['books', 'music']}}]}}"
      ]
     },
     "execution_count": 42,
     "metadata": {},
     "output_type": "execute_result"
    }
   ],
   "source": [
    "es.search(index=employee_es_index, body=body)"
   ]
  },
  {
   "cell_type": "markdown",
   "id": "84fccb01",
   "metadata": {},
   "source": [
    "About"
   ]
  },
  {
   "cell_type": "code",
   "execution_count": 43,
   "id": "e9934c60",
   "metadata": {},
   "outputs": [],
   "source": [
    "body = {\n",
    "            \"query\": {'match': {'about': {'query': \"love books\"}\n",
    "                }\n",
    "\n",
    "            }\n",
    "        }"
   ]
  },
  {
   "cell_type": "code",
   "execution_count": 44,
   "id": "0a34a010",
   "metadata": {
    "scrolled": true
   },
   "outputs": [
    {
     "data": {
      "text/plain": [
       "{'took': 1,\n",
       " 'timed_out': False,\n",
       " '_shards': {'total': 1, 'successful': 1, 'skipped': 0, 'failed': 0},\n",
       " 'hits': {'total': {'value': 2, 'relation': 'eq'},\n",
       "  'max_score': 0.9092851,\n",
       "  'hits': [{'_index': 'test_employee_data',\n",
       "    '_type': '_doc',\n",
       "    '_id': '2',\n",
       "    '_score': 0.9092851,\n",
       "    '_source': {'first_name': 'Araya',\n",
       "     'last_name': 'Smith',\n",
       "     'age': 22,\n",
       "     'about': 'I love to read books',\n",
       "     'interests': ['books', 'music']}},\n",
       "   {'_index': 'test_employee_data',\n",
       "    '_type': '_doc',\n",
       "    '_id': '1',\n",
       "    '_score': 0.17578414,\n",
       "    '_source': {'first_name': 'John',\n",
       "     'last_name': 'Smith',\n",
       "     'age': 25,\n",
       "     'about': 'I love to go rock climbing',\n",
       "     'interests': ['sports', 'music']}}]}}"
      ]
     },
     "execution_count": 44,
     "metadata": {},
     "output_type": "execute_result"
    }
   ],
   "source": [
    "es.search(index=employee_es_index, body=body)"
   ]
  },
  {
   "cell_type": "code",
   "execution_count": 45,
   "id": "8b3696a9",
   "metadata": {},
   "outputs": [],
   "source": [
    "body = {\n",
    "            \"query\": {'match': {'about': {'query': \"rocks\"}\n",
    "                }\n",
    "\n",
    "            }\n",
    "        }"
   ]
  },
  {
   "cell_type": "code",
   "execution_count": 46,
   "id": "ce060b74",
   "metadata": {},
   "outputs": [
    {
     "data": {
      "text/plain": [
       "{'took': 1,\n",
       " 'timed_out': False,\n",
       " '_shards': {'total': 1, 'successful': 1, 'skipped': 0, 'failed': 0},\n",
       " 'hits': {'total': {'value': 0, 'relation': 'eq'},\n",
       "  'max_score': None,\n",
       "  'hits': []}}"
      ]
     },
     "execution_count": 46,
     "metadata": {},
     "output_type": "execute_result"
    }
   ],
   "source": [
    "es.search(index=employee_es_index, body=body)"
   ]
  },
  {
   "cell_type": "code",
   "execution_count": null,
   "id": "5fa494f7",
   "metadata": {},
   "outputs": [],
   "source": []
  }
 ],
 "metadata": {
  "kernelspec": {
   "display_name": "Python 3",
   "language": "python",
   "name": "python3"
  },
  "language_info": {
   "codemirror_mode": {
    "name": "ipython",
    "version": 3
   },
   "file_extension": ".py",
   "mimetype": "text/x-python",
   "name": "python",
   "nbconvert_exporter": "python",
   "pygments_lexer": "ipython3",
   "version": "3.8.8"
  }
 },
 "nbformat": 4,
 "nbformat_minor": 5
}
