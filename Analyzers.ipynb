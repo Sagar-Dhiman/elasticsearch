{
 "cells": [
  {
   "cell_type": "markdown",
   "id": "2f7fa00e",
   "metadata": {},
   "source": [
    "## Importing and testing"
   ]
  },
  {
   "cell_type": "code",
   "execution_count": 2,
   "id": "445cb4cd",
   "metadata": {},
   "outputs": [],
   "source": [
    "from elasticsearch import Elasticsearch\n",
    "es = Elasticsearch()"
   ]
  },
  {
   "cell_type": "code",
   "execution_count": 3,
   "id": "be2fd27b",
   "metadata": {},
   "outputs": [
    {
     "data": {
      "text/plain": [
       "True"
      ]
     },
     "execution_count": 3,
     "metadata": {},
     "output_type": "execute_result"
    }
   ],
   "source": [
    "es.ping()"
   ]
  },
  {
   "cell_type": "markdown",
   "id": "484553ae",
   "metadata": {},
   "source": [
    "## Creating index"
   ]
  },
  {
   "cell_type": "code",
   "execution_count": 104,
   "id": "f28748aa",
   "metadata": {},
   "outputs": [],
   "source": [
    "employee_es_index = 'test_analyzer_employee_data'"
   ]
  },
  {
   "cell_type": "code",
   "execution_count": 105,
   "id": "9b7fed83",
   "metadata": {},
   "outputs": [],
   "source": [
    "test_employee_data_mapping = {\n",
    "  \"settings\": {\n",
    "    \"analysis\": {\n",
    "      \"analyzer\": {\n",
    "        \"exact\": {\n",
    "          \"tokenizer\": \"keyword\"\n",
    "        },\n",
    "        \"case_insensitive_exact\": {\n",
    "          \"tokenizer\": \"keyword\",\n",
    "          \"filter\": [\"lowercase\"]\n",
    "        },\n",
    "        \"case_insensitive_stemmed_exact_no_stop\": {\n",
    "          \"tokenizer\": \"keyword\",\n",
    "          \"filter\": [\"case_insensitive_stop\", \"lowercase\", \"en_stem\"]\n",
    "        },\n",
    "        \"case_insensitive_tokens\": {\n",
    "          \"tokenizer\": \"standard\",\n",
    "          \"filter\": [\"lowercase\"]\n",
    "        },\n",
    "        \"case_insensitive_tokens_no_stop\": {\n",
    "          \"tokenizer\": \"standard\",\n",
    "          \"type\": \"standard\",\n",
    "          \"filter\": [\"case_insensitive_stop\", \"lowercase\"]\n",
    "\n",
    "        },\n",
    "        \"case_insensitive_stemmed_tokens_no_stop\": {\n",
    "          \"tokenizer\": \"standard\",\n",
    "          \"filter\": [\"shingle_filter\", \"case_insensitive_stop\", \"lowercase\", \"en_stem\"]\n",
    "        }\n",
    "      },\n",
    "      \"filter\": {\n",
    "        \"case_insensitive_stop\": {\n",
    "          \"type\": \"stop\",\n",
    "          \"ignore_case\": \"true\"\n",
    "        },\n",
    "        \"en_stem\": {\n",
    "          \"type\": \"condition\",\n",
    "          \"filter\": [ \"stemmer\" ],\n",
    "          \"script\": {\n",
    "            \"source\": \"token.getTerm().length() > 3\"\n",
    "          }\n",
    "        },\n",
    "        \"shingle_filter\": {\n",
    "          \"type\": \"shingle\",\n",
    "          \"max_shingle_size\": 4,\n",
    "          \"min_shingle_size\": 2,\n",
    "          \"output_unigrams\": \"true\"\n",
    "        }\n",
    "      }\n",
    "    }\n",
    "  },\n",
    "  \"mappings\": {\n",
    "    \"dynamic\": \"false\",\n",
    "    \"properties\": {\n",
    "      \"first_name\": {\n",
    "        \"type\": \"text\",\n",
    "        \"analyzer\": \"case_insensitive_exact\",\n",
    "        \"search_analyzer\": \"case_insensitive_exact\"\n",
    "      },\n",
    "         \"last_name\": {\n",
    "        \"type\": \"text\",\n",
    "        \"analyzer\": \"case_insensitive_exact\",\n",
    "        \"search_analyzer\": \"case_insensitive_exact\"\n",
    "      },\n",
    "         \"age\": {\n",
    "        \"type\": \"integer\"\n",
    "      },\n",
    "         \"about\": {\n",
    "        \"type\": \"text\",\n",
    "        \"analyzer\": \"case_insensitive_stemmed_tokens_no_stop\",\n",
    "        \"search_analyzer\": \"case_insensitive_stemmed_exact_no_stop\"\n",
    "      },\n",
    "         \"interests\": {\n",
    "        \"type\": \"text\",\n",
    "        \"analyzer\": \"case_insensitive_stemmed_tokens_no_stop\",\n",
    "        \"search_analyzer\": \"case_insensitive_stemmed_tokens_no_stop\"\n",
    "      }\n",
    "    }\n",
    "  }         \n",
    "}"
   ]
  },
  {
   "cell_type": "code",
   "execution_count": 106,
   "id": "04ebe4d0",
   "metadata": {
    "scrolled": true
   },
   "outputs": [
    {
     "data": {
      "text/plain": [
       "{'acknowledged': True,\n",
       " 'shards_acknowledged': True,\n",
       " 'index': 'test_analyzer_employee_data'}"
      ]
     },
     "execution_count": 106,
     "metadata": {},
     "output_type": "execute_result"
    }
   ],
   "source": [
    "es.indices.create(employee_es_index,test_employee_data_mapping)"
   ]
  },
  {
   "cell_type": "code",
   "execution_count": 107,
   "id": "6247fd49",
   "metadata": {},
   "outputs": [],
   "source": [
    "# es.indices.delete(index=employee_es_index) ##deleting index"
   ]
  },
  {
   "cell_type": "markdown",
   "id": "2d53849b",
   "metadata": {},
   "source": [
    "## Indexing data"
   ]
  },
  {
   "cell_type": "code",
   "execution_count": 108,
   "id": "6bf49d19",
   "metadata": {},
   "outputs": [],
   "source": [
    "id_ = 1\n",
    "\n",
    "data = {\"first_name\":\"John\",\n",
    "        \"last_name\":\"Smith\",\n",
    "        \"age\":25,\n",
    "        \"about\":\"I love to go rock climbing\",\n",
    "        \"interests\":['sports','music']} "
   ]
  },
  {
   "cell_type": "code",
   "execution_count": 109,
   "id": "77cbca13",
   "metadata": {},
   "outputs": [
    {
     "data": {
      "text/plain": [
       "{'_index': 'test_analyzer_employee_data',\n",
       " '_type': '_doc',\n",
       " '_id': '1',\n",
       " '_version': 1,\n",
       " 'result': 'created',\n",
       " '_shards': {'total': 2, 'successful': 1, 'failed': 0},\n",
       " '_seq_no': 0,\n",
       " '_primary_term': 1}"
      ]
     },
     "execution_count": 109,
     "metadata": {},
     "output_type": "execute_result"
    }
   ],
   "source": [
    "es.index(index=employee_es_index,  body=data,id=id_)"
   ]
  },
  {
   "cell_type": "code",
   "execution_count": 110,
   "id": "02383119",
   "metadata": {},
   "outputs": [],
   "source": [
    "id_ = 2\n",
    "\n",
    "data = {\"first_name\":\"Araya\",\n",
    "        \"last_name\":\"Smith\",\n",
    "        \"age\":22,\n",
    "        \"about\":\"I love to read books\",\n",
    "        \"interests\":['books','music']} "
   ]
  },
  {
   "cell_type": "code",
   "execution_count": 111,
   "id": "80d47e4c",
   "metadata": {},
   "outputs": [
    {
     "data": {
      "text/plain": [
       "{'_index': 'test_analyzer_employee_data',\n",
       " '_type': '_doc',\n",
       " '_id': '2',\n",
       " '_version': 1,\n",
       " 'result': 'created',\n",
       " '_shards': {'total': 2, 'successful': 1, 'failed': 0},\n",
       " '_seq_no': 1,\n",
       " '_primary_term': 1}"
      ]
     },
     "execution_count": 111,
     "metadata": {},
     "output_type": "execute_result"
    }
   ],
   "source": [
    "es.index(index=employee_es_index,  body=data,id=id_)"
   ]
  },
  {
   "cell_type": "markdown",
   "id": "1a59a9a6",
   "metadata": {},
   "source": [
    "## Checking data"
   ]
  },
  {
   "cell_type": "code",
   "execution_count": 113,
   "id": "45d0fb19",
   "metadata": {
    "scrolled": false
   },
   "outputs": [
    {
     "data": {
      "text/plain": [
       "{'took': 3,\n",
       " 'timed_out': False,\n",
       " '_shards': {'total': 1, 'successful': 1, 'skipped': 0, 'failed': 0},\n",
       " 'hits': {'total': {'value': 2, 'relation': 'eq'},\n",
       "  'max_score': 1.0,\n",
       "  'hits': [{'_index': 'test_analyzer_employee_data',\n",
       "    '_type': '_doc',\n",
       "    '_id': '1',\n",
       "    '_score': 1.0,\n",
       "    '_source': {'first_name': 'John',\n",
       "     'last_name': 'Smith',\n",
       "     'age': 25,\n",
       "     'about': 'I love to go rock climbing',\n",
       "     'interests': ['sports', 'music']}},\n",
       "   {'_index': 'test_analyzer_employee_data',\n",
       "    '_type': '_doc',\n",
       "    '_id': '2',\n",
       "    '_score': 1.0,\n",
       "    '_source': {'first_name': 'Araya',\n",
       "     'last_name': 'Smith',\n",
       "     'age': 22,\n",
       "     'about': 'I love to read books',\n",
       "     'interests': ['books', 'music']}}]}}"
      ]
     },
     "execution_count": 113,
     "metadata": {},
     "output_type": "execute_result"
    }
   ],
   "source": [
    "es.search(index=employee_es_index, body={\"query\": {\"match_all\": {}}},size=10)"
   ]
  },
  {
   "cell_type": "markdown",
   "id": "7e5b7e42",
   "metadata": {},
   "source": [
    "## Searching"
   ]
  },
  {
   "cell_type": "markdown",
   "id": "c6dbf68e",
   "metadata": {},
   "source": [
    "Last Name"
   ]
  },
  {
   "cell_type": "code",
   "execution_count": 92,
   "id": "250ef407",
   "metadata": {},
   "outputs": [],
   "source": [
    "body = {\n",
    "            \"query\": {'match': {'last_name': {'query': \"smith\"}\n",
    "                }\n",
    "\n",
    "            }\n",
    "        }"
   ]
  },
  {
   "cell_type": "code",
   "execution_count": 93,
   "id": "2006c84a",
   "metadata": {
    "scrolled": true
   },
   "outputs": [
    {
     "data": {
      "text/plain": [
       "{'took': 1,\n",
       " 'timed_out': False,\n",
       " '_shards': {'total': 1, 'successful': 1, 'skipped': 0, 'failed': 0},\n",
       " 'hits': {'total': {'value': 2, 'relation': 'eq'},\n",
       "  'max_score': 0.18232156,\n",
       "  'hits': [{'_index': 'test_analyzer_employee_data',\n",
       "    '_type': '_doc',\n",
       "    '_id': '1',\n",
       "    '_score': 0.18232156,\n",
       "    '_source': {'first_name': 'John',\n",
       "     'last_name': 'Smith',\n",
       "     'age': 25,\n",
       "     'about': 'I love to go rock climbing',\n",
       "     'interests': ['sports', 'music']}},\n",
       "   {'_index': 'test_analyzer_employee_data',\n",
       "    '_type': '_doc',\n",
       "    '_id': '2',\n",
       "    '_score': 0.18232156,\n",
       "    '_source': {'first_name': 'Araya',\n",
       "     'last_name': 'Smith',\n",
       "     'age': 22,\n",
       "     'about': 'I love to read books',\n",
       "     'interests': ['books', 'music']}}]}}"
      ]
     },
     "execution_count": 93,
     "metadata": {},
     "output_type": "execute_result"
    }
   ],
   "source": [
    "es.search(index=employee_es_index, body=body)"
   ]
  },
  {
   "cell_type": "markdown",
   "id": "c66b7520",
   "metadata": {},
   "source": [
    "Interests"
   ]
  },
  {
   "cell_type": "code",
   "execution_count": 94,
   "id": "9c713078",
   "metadata": {},
   "outputs": [],
   "source": [
    "body = {\n",
    "            \"query\": {'match': {'interests': {'query': \"books\"}\n",
    "                }\n",
    "\n",
    "            }\n",
    "        }"
   ]
  },
  {
   "cell_type": "code",
   "execution_count": 95,
   "id": "ffa319d3",
   "metadata": {},
   "outputs": [
    {
     "data": {
      "text/plain": [
       "{'took': 2,\n",
       " 'timed_out': False,\n",
       " '_shards': {'total': 1, 'successful': 1, 'skipped': 0, 'failed': 0},\n",
       " 'hits': {'total': {'value': 1, 'relation': 'eq'},\n",
       "  'max_score': 0.6931471,\n",
       "  'hits': [{'_index': 'test_analyzer_employee_data',\n",
       "    '_type': '_doc',\n",
       "    '_id': '2',\n",
       "    '_score': 0.6931471,\n",
       "    '_source': {'first_name': 'Araya',\n",
       "     'last_name': 'Smith',\n",
       "     'age': 22,\n",
       "     'about': 'I love to read books',\n",
       "     'interests': ['books', 'music']}}]}}"
      ]
     },
     "execution_count": 95,
     "metadata": {},
     "output_type": "execute_result"
    }
   ],
   "source": [
    "es.search(index=employee_es_index, body=body)"
   ]
  },
  {
   "cell_type": "markdown",
   "id": "21a909e3",
   "metadata": {},
   "source": [
    "About"
   ]
  },
  {
   "cell_type": "code",
   "execution_count": 96,
   "id": "cf39d78c",
   "metadata": {},
   "outputs": [],
   "source": [
    "body = {\n",
    "            \"query\": {\n",
    "                'match': {'about': {'query': \"love books\"}\n",
    "                }\n",
    "\n",
    "            }\n",
    "        }"
   ]
  },
  {
   "cell_type": "code",
   "execution_count": 97,
   "id": "0a693b66",
   "metadata": {},
   "outputs": [
    {
     "data": {
      "text/plain": [
       "{'took': 1,\n",
       " 'timed_out': False,\n",
       " '_shards': {'total': 1, 'successful': 1, 'skipped': 0, 'failed': 0},\n",
       " 'hits': {'total': {'value': 0, 'relation': 'eq'},\n",
       "  'max_score': None,\n",
       "  'hits': []}}"
      ]
     },
     "execution_count": 97,
     "metadata": {},
     "output_type": "execute_result"
    }
   ],
   "source": [
    "es.search(index=employee_es_index, body=body)"
   ]
  },
  {
   "cell_type": "code",
   "execution_count": 98,
   "id": "61145b56",
   "metadata": {},
   "outputs": [],
   "source": [
    "body = {\n",
    "            \"query\": {'match': {'about': {'query': \"rocks\"}\n",
    "                }\n",
    "\n",
    "            }\n",
    "        }"
   ]
  },
  {
   "cell_type": "code",
   "execution_count": 99,
   "id": "8eb25a5c",
   "metadata": {},
   "outputs": [
    {
     "data": {
      "text/plain": [
       "{'took': 0,\n",
       " 'timed_out': False,\n",
       " '_shards': {'total': 1, 'successful': 1, 'skipped': 0, 'failed': 0},\n",
       " 'hits': {'total': {'value': 1, 'relation': 'eq'},\n",
       "  'max_score': 0.9186288,\n",
       "  'hits': [{'_index': 'test_analyzer_employee_data',\n",
       "    '_type': '_doc',\n",
       "    '_id': '1',\n",
       "    '_score': 0.9186288,\n",
       "    '_source': {'first_name': 'John',\n",
       "     'last_name': 'Smith',\n",
       "     'age': 25,\n",
       "     'about': 'I love to go rock climbing',\n",
       "     'interests': ['sports', 'music']}}]}}"
      ]
     },
     "execution_count": 99,
     "metadata": {},
     "output_type": "execute_result"
    }
   ],
   "source": [
    "es.search(index=employee_es_index, body=body)"
   ]
  },
  {
   "cell_type": "markdown",
   "id": "f2e0b56f",
   "metadata": {},
   "source": [
    "### Highlights"
   ]
  },
  {
   "cell_type": "code",
   "execution_count": 100,
   "id": "7d3a0269",
   "metadata": {},
   "outputs": [],
   "source": [
    "body = {\n",
    "            \"query\": {\n",
    "                \"match\": { 'about': {'query': \"rocks\"}\n",
    "                         }\n",
    "\n",
    "            }\n",
    "        }"
   ]
  },
  {
   "cell_type": "code",
   "execution_count": 101,
   "id": "93511dba",
   "metadata": {},
   "outputs": [],
   "source": [
    "sources = [\"about\"]"
   ]
  },
  {
   "cell_type": "code",
   "execution_count": 102,
   "id": "442a1f87",
   "metadata": {},
   "outputs": [],
   "source": [
    "body[\"highlight\"] = {\n",
    "        \"pre_tags\": [\"<em class='highlight'>\"],\n",
    "        \"post_tags\": [\"</em>\"],\n",
    "        'fields': {x: {'number_of_fragments': 0} for x in sources}\n",
    "    }"
   ]
  },
  {
   "cell_type": "code",
   "execution_count": 103,
   "id": "908f0a9f",
   "metadata": {},
   "outputs": [
    {
     "data": {
      "text/plain": [
       "{'took': 26,\n",
       " 'timed_out': False,\n",
       " '_shards': {'total': 1, 'successful': 1, 'skipped': 0, 'failed': 0},\n",
       " 'hits': {'total': {'value': 1, 'relation': 'eq'},\n",
       "  'max_score': 0.9186288,\n",
       "  'hits': [{'_index': 'test_analyzer_employee_data',\n",
       "    '_type': '_doc',\n",
       "    '_id': '1',\n",
       "    '_score': 0.9186288,\n",
       "    '_source': {'first_name': 'John',\n",
       "     'last_name': 'Smith',\n",
       "     'age': 25,\n",
       "     'about': 'I love to go rock climbing',\n",
       "     'interests': ['sports', 'music']},\n",
       "    'highlight': {'about': [\"I love to go <em class='highlight'>rock</em> climbing\"]}}]}}"
      ]
     },
     "execution_count": 103,
     "metadata": {},
     "output_type": "execute_result"
    }
   ],
   "source": [
    "es.search(index=employee_es_index, body=body)"
   ]
  },
  {
   "cell_type": "code",
   "execution_count": null,
   "id": "ef9c2fe0",
   "metadata": {},
   "outputs": [],
   "source": []
  }
 ],
 "metadata": {
  "kernelspec": {
   "display_name": "Python 3",
   "language": "python",
   "name": "python3"
  },
  "language_info": {
   "codemirror_mode": {
    "name": "ipython",
    "version": 3
   },
   "file_extension": ".py",
   "mimetype": "text/x-python",
   "name": "python",
   "nbconvert_exporter": "python",
   "pygments_lexer": "ipython3",
   "version": "3.8.8"
  }
 },
 "nbformat": 4,
 "nbformat_minor": 5
}
