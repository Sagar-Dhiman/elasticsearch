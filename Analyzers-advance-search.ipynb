{
 "cells": [
  {
   "cell_type": "markdown",
   "id": "6420973d",
   "metadata": {},
   "source": [
    "## Importing and testing"
   ]
  },
  {
   "cell_type": "code",
   "execution_count": 79,
   "id": "6ca94042",
   "metadata": {},
   "outputs": [],
   "source": [
    "from elasticsearch import Elasticsearch\n",
    "es = Elasticsearch()"
   ]
  },
  {
   "cell_type": "code",
   "execution_count": 80,
   "id": "bbb41c9d",
   "metadata": {},
   "outputs": [
    {
     "data": {
      "text/plain": [
       "True"
      ]
     },
     "execution_count": 80,
     "metadata": {},
     "output_type": "execute_result"
    }
   ],
   "source": [
    "es.ping()"
   ]
  },
  {
   "cell_type": "code",
   "execution_count": 81,
   "id": "d44a380a",
   "metadata": {},
   "outputs": [],
   "source": [
    "employee_es_index = 'test_analyzer_employee_data'"
   ]
  },
  {
   "cell_type": "markdown",
   "id": "7207f216",
   "metadata": {},
   "source": [
    "## Checking data"
   ]
  },
  {
   "cell_type": "code",
   "execution_count": 82,
   "id": "4da99aeb",
   "metadata": {
    "scrolled": true
   },
   "outputs": [
    {
     "data": {
      "text/plain": [
       "{'took': 1,\n",
       " 'timed_out': False,\n",
       " '_shards': {'total': 1, 'successful': 1, 'skipped': 0, 'failed': 0},\n",
       " 'hits': {'total': {'value': 2, 'relation': 'eq'},\n",
       "  'max_score': 1.0,\n",
       "  'hits': [{'_index': 'test_analyzer_employee_data',\n",
       "    '_type': '_doc',\n",
       "    '_id': '1',\n",
       "    '_score': 1.0,\n",
       "    '_source': {'first_name': 'John',\n",
       "     'last_name': 'Smith',\n",
       "     'age': 25,\n",
       "     'about': 'I love to go rock climbing',\n",
       "     'interests': ['sports', 'music']}},\n",
       "   {'_index': 'test_analyzer_employee_data',\n",
       "    '_type': '_doc',\n",
       "    '_id': '2',\n",
       "    '_score': 1.0,\n",
       "    '_source': {'first_name': 'Araya',\n",
       "     'last_name': 'Smith',\n",
       "     'age': 22,\n",
       "     'about': 'I love to read books',\n",
       "     'interests': ['books', 'music']}}]}}"
      ]
     },
     "execution_count": 82,
     "metadata": {},
     "output_type": "execute_result"
    }
   ],
   "source": [
    "es.search(index=employee_es_index, body={\"query\": {\"match_all\": {}}},size=10)"
   ]
  },
  {
   "cell_type": "markdown",
   "id": "d94ca5a5",
   "metadata": {},
   "source": [
    "## Searching"
   ]
  },
  {
   "cell_type": "markdown",
   "id": "96a99690",
   "metadata": {},
   "source": [
    "### Highlights"
   ]
  },
  {
   "cell_type": "code",
   "execution_count": 83,
   "id": "86bfe42f",
   "metadata": {},
   "outputs": [],
   "source": [
    "body = {\n",
    "            \"query\": {\n",
    "                \"match\": { 'about': {'query': \"rocks\"}\n",
    "                         }\n",
    "\n",
    "            }\n",
    "        }"
   ]
  },
  {
   "cell_type": "code",
   "execution_count": 84,
   "id": "d5560b0e",
   "metadata": {},
   "outputs": [],
   "source": [
    "sources = [\"about\"]"
   ]
  },
  {
   "cell_type": "code",
   "execution_count": 85,
   "id": "145c4df1",
   "metadata": {},
   "outputs": [],
   "source": [
    "body[\"highlight\"] = {\n",
    "        \"pre_tags\": [\"<em class='highlight'>\"],\n",
    "        \"post_tags\": [\"</em>\"],\n",
    "        'fields': {x: {'number_of_fragments': 0} for x in sources}\n",
    "    }"
   ]
  },
  {
   "cell_type": "code",
   "execution_count": 86,
   "id": "2eefa64c",
   "metadata": {},
   "outputs": [
    {
     "data": {
      "text/plain": [
       "{'took': 3,\n",
       " 'timed_out': False,\n",
       " '_shards': {'total': 1, 'successful': 1, 'skipped': 0, 'failed': 0},\n",
       " 'hits': {'total': {'value': 1, 'relation': 'eq'},\n",
       "  'max_score': 0.9186288,\n",
       "  'hits': [{'_index': 'test_analyzer_employee_data',\n",
       "    '_type': '_doc',\n",
       "    '_id': '1',\n",
       "    '_score': 0.9186288,\n",
       "    '_source': {'first_name': 'John',\n",
       "     'last_name': 'Smith',\n",
       "     'age': 25,\n",
       "     'about': 'I love to go rock climbing',\n",
       "     'interests': ['sports', 'music']},\n",
       "    'highlight': {'about': [\"I love to go <em class='highlight'>rock</em> climbing\"]}}]}}"
      ]
     },
     "execution_count": 86,
     "metadata": {},
     "output_type": "execute_result"
    }
   ],
   "source": [
    "es.search(index=employee_es_index, body=body)"
   ]
  },
  {
   "cell_type": "markdown",
   "id": "6e2e2ad9",
   "metadata": {},
   "source": [
    "## Search on multiple fields"
   ]
  },
  {
   "cell_type": "code",
   "execution_count": 88,
   "id": "34d5fdb4",
   "metadata": {},
   "outputs": [],
   "source": [
    "sources = ['first_name','last_name','age','about','interests']"
   ]
  },
  {
   "cell_type": "code",
   "execution_count": 89,
   "id": "ae4289c5",
   "metadata": {},
   "outputs": [],
   "source": [
    "body = {\n",
    "            \"query\": {\n",
    "                \"bool\": {\n",
    "                    \"should\": [{'match': {'about': {'query': 'books'}}},\n",
    "                               {'match': {'interests': {'query': 'books'}}},\n",
    "                              ],\n",
    "                    \"minimum_should_match\": 1\n",
    "                }\n",
    "\n",
    "            }\n",
    "        }"
   ]
  },
  {
   "cell_type": "code",
   "execution_count": 90,
   "id": "9a28aeb2",
   "metadata": {},
   "outputs": [],
   "source": [
    "body[\"highlight\"] = {\n",
    "        \"pre_tags\": [\"<em class='highlight'>\"],\n",
    "        \"post_tags\": [\"</em>\"],\n",
    "        'fields': {x: {'number_of_fragments': 0} for x in sources}\n",
    "    }"
   ]
  },
  {
   "cell_type": "code",
   "execution_count": 91,
   "id": "3132f20f",
   "metadata": {},
   "outputs": [
    {
     "data": {
      "text/plain": [
       "{'took': 5,\n",
       " 'timed_out': False,\n",
       " '_shards': {'total': 1, 'successful': 1, 'skipped': 0, 'failed': 0},\n",
       " 'hits': {'total': {'value': 1, 'relation': 'eq'},\n",
       "  'max_score': 1.6462245,\n",
       "  'hits': [{'_index': 'test_analyzer_employee_data',\n",
       "    '_type': '_doc',\n",
       "    '_id': '2',\n",
       "    '_score': 1.6462245,\n",
       "    '_source': {'first_name': 'Araya',\n",
       "     'last_name': 'Smith',\n",
       "     'age': 22,\n",
       "     'about': 'I love to read books',\n",
       "     'interests': ['books', 'music']},\n",
       "    'highlight': {'about': [\"I love to read <em class='highlight'>books</em>\"],\n",
       "     'interests': [\"<em class='highlight'>books</em>\"]}}]}}"
      ]
     },
     "execution_count": 91,
     "metadata": {},
     "output_type": "execute_result"
    }
   ],
   "source": [
    "es.search(index=employee_es_index, body=body)"
   ]
  },
  {
   "cell_type": "markdown",
   "id": "6123864f",
   "metadata": {},
   "source": [
    "## Filters"
   ]
  },
  {
   "cell_type": "code",
   "execution_count": 98,
   "id": "d431d581",
   "metadata": {},
   "outputs": [],
   "source": [
    "body = {\n",
    "    \"query\": {\n",
    "      \"bool\": { \n",
    "          \"should\": [{'match': {'about': {'query': 'books'}}},\n",
    "                     {'match': {'interests': {'query': 'books'}}},\n",
    "           ],\n",
    "          \"minimum_should_match\": 1,\n",
    "          \"filter\": {\n",
    "               \"range\":{\"age\":{\"gte\":22}}\n",
    "               }\n",
    "            }\n",
    "          }\n",
    "      }\n"
   ]
  },
  {
   "cell_type": "code",
   "execution_count": 99,
   "id": "ed2268e1",
   "metadata": {},
   "outputs": [],
   "source": [
    "body[\"highlight\"] = {\n",
    "        \"pre_tags\": [\"<em class='highlight'>\"],\n",
    "        \"post_tags\": [\"</em>\"],\n",
    "        'fields': {x: {'number_of_fragments': 0} for x in sources}\n",
    "    }"
   ]
  },
  {
   "cell_type": "code",
   "execution_count": 100,
   "id": "b1539c10",
   "metadata": {},
   "outputs": [
    {
     "data": {
      "text/plain": [
       "{'took': 7,\n",
       " 'timed_out': False,\n",
       " '_shards': {'total': 1, 'successful': 1, 'skipped': 0, 'failed': 0},\n",
       " 'hits': {'total': {'value': 1, 'relation': 'eq'},\n",
       "  'max_score': 1.6462245,\n",
       "  'hits': [{'_index': 'test_analyzer_employee_data',\n",
       "    '_type': '_doc',\n",
       "    '_id': '2',\n",
       "    '_score': 1.6462245,\n",
       "    '_source': {'first_name': 'Araya',\n",
       "     'last_name': 'Smith',\n",
       "     'age': 22,\n",
       "     'about': 'I love to read books',\n",
       "     'interests': ['books', 'music']},\n",
       "    'highlight': {'about': [\"I love to read <em class='highlight'>books</em>\"],\n",
       "     'interests': [\"<em class='highlight'>books</em>\"]}}]}}"
      ]
     },
     "execution_count": 100,
     "metadata": {},
     "output_type": "execute_result"
    }
   ],
   "source": [
    "es.search(index=employee_es_index, body=body)"
   ]
  },
  {
   "cell_type": "code",
   "execution_count": null,
   "id": "2f4b5ffa",
   "metadata": {},
   "outputs": [],
   "source": []
  }
 ],
 "metadata": {
  "kernelspec": {
   "display_name": "Python 3",
   "language": "python",
   "name": "python3"
  },
  "language_info": {
   "codemirror_mode": {
    "name": "ipython",
    "version": 3
   },
   "file_extension": ".py",
   "mimetype": "text/x-python",
   "name": "python",
   "nbconvert_exporter": "python",
   "pygments_lexer": "ipython3",
   "version": "3.8.8"
  }
 },
 "nbformat": 4,
 "nbformat_minor": 5
}
