{
 "cells": [
  {
   "cell_type": "markdown",
   "id": "6420973d",
   "metadata": {},
   "source": [
    "## Importing and testing"
   ]
  },
  {
   "cell_type": "code",
   "execution_count": 63,
   "id": "6ca94042",
   "metadata": {},
   "outputs": [],
   "source": [
    "from elasticsearch import Elasticsearch\n",
    "es = Elasticsearch()"
   ]
  },
  {
   "cell_type": "code",
   "execution_count": 64,
   "id": "bbb41c9d",
   "metadata": {},
   "outputs": [
    {
     "data": {
      "text/plain": [
       "True"
      ]
     },
     "execution_count": 64,
     "metadata": {},
     "output_type": "execute_result"
    }
   ],
   "source": [
    "es.ping()"
   ]
  },
  {
   "cell_type": "markdown",
   "id": "77b799d7",
   "metadata": {},
   "source": [
    "## Creating index"
   ]
  },
  {
   "cell_type": "code",
   "execution_count": 66,
   "id": "c309f06f",
   "metadata": {},
   "outputs": [],
   "source": [
    "es_index = 'movies'"
   ]
  },
  {
   "cell_type": "code",
   "execution_count": 67,
   "id": "edbe910d",
   "metadata": {},
   "outputs": [],
   "source": [
    "movie_data_mapping = {\n",
    "  \"mappings\": {\n",
    "    \"properties\": {\n",
    "      \"name\": {\n",
    "        \"type\": \"completion\"\n",
    "      },\n",
    "        \n",
    "         \"year\": {\n",
    "        \"type\": \"integer\"\n",
    "      }\n",
    "    }\n",
    "  }         \n",
    "}"
   ]
  },
  {
   "cell_type": "code",
   "execution_count": 68,
   "id": "01268c1e",
   "metadata": {},
   "outputs": [
    {
     "data": {
      "text/plain": [
       "{'acknowledged': True, 'shards_acknowledged': True, 'index': 'movies'}"
      ]
     },
     "execution_count": 68,
     "metadata": {},
     "output_type": "execute_result"
    }
   ],
   "source": [
    "es.indices.create(es_index,movie_data_mapping)"
   ]
  },
  {
   "cell_type": "markdown",
   "id": "0844e35e",
   "metadata": {},
   "source": [
    "## Indexing Data"
   ]
  },
  {
   "cell_type": "code",
   "execution_count": 61,
   "id": "aba5fb89",
   "metadata": {},
   "outputs": [],
   "source": [
    "data = [{ \"name\": \"Spider-Man: Far From Home\", \"year\": \"2019\"},\n",
    "{ \"name\": \"Avengers: Endgame\", \"year\": \"2019\"},\n",
    "{ \"name\": \"Captain Marvel\", \"year\": \"2019\"},\n",
    "{ \"name\": \"Ant-man and the Wasp\", \"year\": \"2018\"},\n",
    "{ \"name\": \"Avengers: Infinity War\", \"year\": \"2018\"},\n",
    "{ \"name\": \"Black Panther\", \"year\": \"2018\"},\n",
    "{ \"name\": \"Thor: Ragnarok\", \"year\": \"2017\"},\n",
    "{ \"name\": \"Spider-Man: Homecoming\", \"year\": \"2017\"},\n",
    "{ \"name\": \"Guardians of the Galaxy Vol 2\", \"year\": \"2017\"},\n",
    "{ \"name\": \"Doctor Strange\", \"year\": \"2016\"},\n",
    "{ \"name\": \"Captain America: Civil War\", \"year\": \"2016\"},\n",
    "{ \"name\": \"Ant-Man\", \"year\": \"2015\"},\n",
    "{ \"name\": \"Avengers: Age of Ultron\", \"year\": \"2015\"},\n",
    "{ \"name\": \"Guardians of the Galaxy\", \"year\": \"2014\"},\n",
    "{ \"name\": \"Captain America: The Winter Soldier\", \"year\": \"2014\"},\n",
    "{ \"name\": \"Thor: The Dark World\", \"year\": \"2013\"},\n",
    "{ \"name\": \"Iron Man 3\", \"year\": \"2013\"},\n",
    "{ \"name\": \"Marvel's The Avengers\", \"year\": \"2012\"},\n",
    "{ \"name\": \"Captain America: The First Avenger\", \"year\": \"2011\"},\n",
    "{ \"name\": \"Thor\", \"year\": \"2011\"},\n",
    "{ \"name\": \"Iron Man 2\", \"year\": \"2010\"},\n",
    "{ \"name\": \"The Incredible Hulk\", \"year\": \"2008\"},\n",
    "{ \"name\": \"Iron Man\", \"year\": \"2008\"}]"
   ]
  },
  {
   "cell_type": "code",
   "execution_count": 69,
   "id": "f04507a4",
   "metadata": {},
   "outputs": [
    {
     "data": {
      "text/plain": [
       "[{'_index': 'movies',\n",
       "  '_type': '_doc',\n",
       "  '_id': 'uebMWoQBIpQmeSUKusuC',\n",
       "  '_version': 1,\n",
       "  'result': 'created',\n",
       "  '_shards': {'total': 2, 'successful': 1, 'failed': 0},\n",
       "  '_seq_no': 0,\n",
       "  '_primary_term': 1},\n",
       " {'_index': 'movies',\n",
       "  '_type': '_doc',\n",
       "  '_id': 'uubMWoQBIpQmeSUKusuU',\n",
       "  '_version': 1,\n",
       "  'result': 'created',\n",
       "  '_shards': {'total': 2, 'successful': 1, 'failed': 0},\n",
       "  '_seq_no': 1,\n",
       "  '_primary_term': 1},\n",
       " {'_index': 'movies',\n",
       "  '_type': '_doc',\n",
       "  '_id': 'u-bMWoQBIpQmeSUKusug',\n",
       "  '_version': 1,\n",
       "  'result': 'created',\n",
       "  '_shards': {'total': 2, 'successful': 1, 'failed': 0},\n",
       "  '_seq_no': 2,\n",
       "  '_primary_term': 1},\n",
       " {'_index': 'movies',\n",
       "  '_type': '_doc',\n",
       "  '_id': 'vObMWoQBIpQmeSUKusur',\n",
       "  '_version': 1,\n",
       "  'result': 'created',\n",
       "  '_shards': {'total': 2, 'successful': 1, 'failed': 0},\n",
       "  '_seq_no': 3,\n",
       "  '_primary_term': 1},\n",
       " {'_index': 'movies',\n",
       "  '_type': '_doc',\n",
       "  '_id': 'vebMWoQBIpQmeSUKusuz',\n",
       "  '_version': 1,\n",
       "  'result': 'created',\n",
       "  '_shards': {'total': 2, 'successful': 1, 'failed': 0},\n",
       "  '_seq_no': 4,\n",
       "  '_primary_term': 1},\n",
       " {'_index': 'movies',\n",
       "  '_type': '_doc',\n",
       "  '_id': 'vubMWoQBIpQmeSUKusu7',\n",
       "  '_version': 1,\n",
       "  'result': 'created',\n",
       "  '_shards': {'total': 2, 'successful': 1, 'failed': 0},\n",
       "  '_seq_no': 5,\n",
       "  '_primary_term': 1},\n",
       " {'_index': 'movies',\n",
       "  '_type': '_doc',\n",
       "  '_id': 'v-bMWoQBIpQmeSUKusvG',\n",
       "  '_version': 1,\n",
       "  'result': 'created',\n",
       "  '_shards': {'total': 2, 'successful': 1, 'failed': 0},\n",
       "  '_seq_no': 6,\n",
       "  '_primary_term': 1},\n",
       " {'_index': 'movies',\n",
       "  '_type': '_doc',\n",
       "  '_id': 'wObMWoQBIpQmeSUKusvP',\n",
       "  '_version': 1,\n",
       "  'result': 'created',\n",
       "  '_shards': {'total': 2, 'successful': 1, 'failed': 0},\n",
       "  '_seq_no': 7,\n",
       "  '_primary_term': 1},\n",
       " {'_index': 'movies',\n",
       "  '_type': '_doc',\n",
       "  '_id': 'webMWoQBIpQmeSUKusvX',\n",
       "  '_version': 1,\n",
       "  'result': 'created',\n",
       "  '_shards': {'total': 2, 'successful': 1, 'failed': 0},\n",
       "  '_seq_no': 8,\n",
       "  '_primary_term': 1},\n",
       " {'_index': 'movies',\n",
       "  '_type': '_doc',\n",
       "  '_id': 'wubMWoQBIpQmeSUKusve',\n",
       "  '_version': 1,\n",
       "  'result': 'created',\n",
       "  '_shards': {'total': 2, 'successful': 1, 'failed': 0},\n",
       "  '_seq_no': 9,\n",
       "  '_primary_term': 1},\n",
       " {'_index': 'movies',\n",
       "  '_type': '_doc',\n",
       "  '_id': 'w-bMWoQBIpQmeSUKusvn',\n",
       "  '_version': 1,\n",
       "  'result': 'created',\n",
       "  '_shards': {'total': 2, 'successful': 1, 'failed': 0},\n",
       "  '_seq_no': 10,\n",
       "  '_primary_term': 1},\n",
       " {'_index': 'movies',\n",
       "  '_type': '_doc',\n",
       "  '_id': 'xObMWoQBIpQmeSUKusvy',\n",
       "  '_version': 1,\n",
       "  'result': 'created',\n",
       "  '_shards': {'total': 2, 'successful': 1, 'failed': 0},\n",
       "  '_seq_no': 11,\n",
       "  '_primary_term': 1},\n",
       " {'_index': 'movies',\n",
       "  '_type': '_doc',\n",
       "  '_id': 'xebMWoQBIpQmeSUKusv6',\n",
       "  '_version': 1,\n",
       "  'result': 'created',\n",
       "  '_shards': {'total': 2, 'successful': 1, 'failed': 0},\n",
       "  '_seq_no': 12,\n",
       "  '_primary_term': 1},\n",
       " {'_index': 'movies',\n",
       "  '_type': '_doc',\n",
       "  '_id': 'xubMWoQBIpQmeSUKu8sC',\n",
       "  '_version': 1,\n",
       "  'result': 'created',\n",
       "  '_shards': {'total': 2, 'successful': 1, 'failed': 0},\n",
       "  '_seq_no': 13,\n",
       "  '_primary_term': 1},\n",
       " {'_index': 'movies',\n",
       "  '_type': '_doc',\n",
       "  '_id': 'x-bMWoQBIpQmeSUKu8sK',\n",
       "  '_version': 1,\n",
       "  'result': 'created',\n",
       "  '_shards': {'total': 2, 'successful': 1, 'failed': 0},\n",
       "  '_seq_no': 14,\n",
       "  '_primary_term': 1},\n",
       " {'_index': 'movies',\n",
       "  '_type': '_doc',\n",
       "  '_id': 'yObMWoQBIpQmeSUKu8sU',\n",
       "  '_version': 1,\n",
       "  'result': 'created',\n",
       "  '_shards': {'total': 2, 'successful': 1, 'failed': 0},\n",
       "  '_seq_no': 15,\n",
       "  '_primary_term': 1},\n",
       " {'_index': 'movies',\n",
       "  '_type': '_doc',\n",
       "  '_id': 'yebMWoQBIpQmeSUKu8sc',\n",
       "  '_version': 1,\n",
       "  'result': 'created',\n",
       "  '_shards': {'total': 2, 'successful': 1, 'failed': 0},\n",
       "  '_seq_no': 16,\n",
       "  '_primary_term': 1},\n",
       " {'_index': 'movies',\n",
       "  '_type': '_doc',\n",
       "  '_id': 'yubMWoQBIpQmeSUKu8sk',\n",
       "  '_version': 1,\n",
       "  'result': 'created',\n",
       "  '_shards': {'total': 2, 'successful': 1, 'failed': 0},\n",
       "  '_seq_no': 17,\n",
       "  '_primary_term': 1},\n",
       " {'_index': 'movies',\n",
       "  '_type': '_doc',\n",
       "  '_id': 'y-bMWoQBIpQmeSUKu8ss',\n",
       "  '_version': 1,\n",
       "  'result': 'created',\n",
       "  '_shards': {'total': 2, 'successful': 1, 'failed': 0},\n",
       "  '_seq_no': 18,\n",
       "  '_primary_term': 1},\n",
       " {'_index': 'movies',\n",
       "  '_type': '_doc',\n",
       "  '_id': 'zObMWoQBIpQmeSUKu8s0',\n",
       "  '_version': 1,\n",
       "  'result': 'created',\n",
       "  '_shards': {'total': 2, 'successful': 1, 'failed': 0},\n",
       "  '_seq_no': 19,\n",
       "  '_primary_term': 1},\n",
       " {'_index': 'movies',\n",
       "  '_type': '_doc',\n",
       "  '_id': 'zebMWoQBIpQmeSUKu8s9',\n",
       "  '_version': 1,\n",
       "  'result': 'created',\n",
       "  '_shards': {'total': 2, 'successful': 1, 'failed': 0},\n",
       "  '_seq_no': 20,\n",
       "  '_primary_term': 1},\n",
       " {'_index': 'movies',\n",
       "  '_type': '_doc',\n",
       "  '_id': 'zubMWoQBIpQmeSUKu8tE',\n",
       "  '_version': 1,\n",
       "  'result': 'created',\n",
       "  '_shards': {'total': 2, 'successful': 1, 'failed': 0},\n",
       "  '_seq_no': 21,\n",
       "  '_primary_term': 1},\n",
       " {'_index': 'movies',\n",
       "  '_type': '_doc',\n",
       "  '_id': 'z-bMWoQBIpQmeSUKu8tM',\n",
       "  '_version': 1,\n",
       "  'result': 'created',\n",
       "  '_shards': {'total': 2, 'successful': 1, 'failed': 0},\n",
       "  '_seq_no': 22,\n",
       "  '_primary_term': 1}]"
      ]
     },
     "execution_count": 69,
     "metadata": {},
     "output_type": "execute_result"
    }
   ],
   "source": [
    "[es.index(index=es_index,  body=x) for x in data]"
   ]
  },
  {
   "cell_type": "markdown",
   "id": "7207f216",
   "metadata": {},
   "source": [
    "## Checking data"
   ]
  },
  {
   "cell_type": "code",
   "execution_count": 70,
   "id": "4da99aeb",
   "metadata": {
    "scrolled": true
   },
   "outputs": [
    {
     "data": {
      "text/plain": [
       "{'took': 3,\n",
       " 'timed_out': False,\n",
       " '_shards': {'total': 1, 'successful': 1, 'skipped': 0, 'failed': 0},\n",
       " 'hits': {'total': {'value': 23, 'relation': 'eq'},\n",
       "  'max_score': 1.0,\n",
       "  'hits': [{'_index': 'movies',\n",
       "    '_type': '_doc',\n",
       "    '_id': 'uebMWoQBIpQmeSUKusuC',\n",
       "    '_score': 1.0,\n",
       "    '_source': {'name': 'Spider-Man: Far From Home', 'year': '2019'}},\n",
       "   {'_index': 'movies',\n",
       "    '_type': '_doc',\n",
       "    '_id': 'uubMWoQBIpQmeSUKusuU',\n",
       "    '_score': 1.0,\n",
       "    '_source': {'name': 'Avengers: Endgame', 'year': '2019'}}]}}"
      ]
     },
     "execution_count": 70,
     "metadata": {},
     "output_type": "execute_result"
    }
   ],
   "source": [
    "es.search(index=es_index, body={\"query\": {\"match_all\": {}}},size=2)"
   ]
  },
  {
   "cell_type": "markdown",
   "id": "d94ca5a5",
   "metadata": {},
   "source": [
    "## Searching"
   ]
  },
  {
   "cell_type": "markdown",
   "id": "96a99690",
   "metadata": {},
   "source": [
    "### Highlights"
   ]
  },
  {
   "cell_type": "code",
   "execution_count": 72,
   "id": "86bfe42f",
   "metadata": {},
   "outputs": [],
   "source": [
    "body = {\n",
    "            \"query\": {\n",
    "                \"match\": { 'name': {'query': \"thor\"}\n",
    "                         }\n",
    "\n",
    "            }\n",
    "        }"
   ]
  },
  {
   "cell_type": "code",
   "execution_count": 73,
   "id": "d5560b0e",
   "metadata": {},
   "outputs": [],
   "source": [
    "sources = [\"name\"]"
   ]
  },
  {
   "cell_type": "code",
   "execution_count": 74,
   "id": "145c4df1",
   "metadata": {},
   "outputs": [],
   "source": [
    "body[\"highlight\"] = {\n",
    "        \"pre_tags\": [\"<em class='highlight'>\"],\n",
    "        \"post_tags\": [\"</em>\"],\n",
    "        'fields': {x: {'number_of_fragments': 0} for x in sources}\n",
    "    }"
   ]
  },
  {
   "cell_type": "code",
   "execution_count": 75,
   "id": "2eefa64c",
   "metadata": {},
   "outputs": [
    {
     "data": {
      "text/plain": [
       "{'took': 33,\n",
       " 'timed_out': False,\n",
       " '_shards': {'total': 1, 'successful': 1, 'skipped': 0, 'failed': 0},\n",
       " 'hits': {'total': {'value': 1, 'relation': 'eq'},\n",
       "  'max_score': 2.7725885,\n",
       "  'hits': [{'_index': 'movies',\n",
       "    '_type': '_doc',\n",
       "    '_id': 'zObMWoQBIpQmeSUKu8s0',\n",
       "    '_score': 2.7725885,\n",
       "    '_source': {'name': 'Thor', 'year': '2011'},\n",
       "    'highlight': {'name': [\"<em class='highlight'>Thor</em>\"]}}]}}"
      ]
     },
     "execution_count": 75,
     "metadata": {},
     "output_type": "execute_result"
    }
   ],
   "source": [
    "es.search(index=es_index, body=body)"
   ]
  },
  {
   "cell_type": "markdown",
   "id": "613b5888",
   "metadata": {},
   "source": [
    "### Auto complete"
   ]
  },
  {
   "cell_type": "code",
   "execution_count": 76,
   "id": "21af1344",
   "metadata": {},
   "outputs": [],
   "source": [
    "body = {\n",
    "          \"suggest\": {\n",
    "            \"movie-suggest\": {\n",
    "              \"prefix\": \"thor\",\n",
    "              \"completion\": {\n",
    "                \"field\": \"name\"\n",
    "              }\n",
    "            }\n",
    "          }\n",
    "        }"
   ]
  },
  {
   "cell_type": "code",
   "execution_count": 77,
   "id": "b887fc98",
   "metadata": {},
   "outputs": [
    {
     "data": {
      "text/plain": [
       "{'took': 25,\n",
       " 'timed_out': False,\n",
       " '_shards': {'total': 1, 'successful': 1, 'skipped': 0, 'failed': 0},\n",
       " 'hits': {'total': {'value': 0, 'relation': 'eq'},\n",
       "  'max_score': None,\n",
       "  'hits': []},\n",
       " 'suggest': {'movie-suggest': [{'text': 'thor',\n",
       "    'offset': 0,\n",
       "    'length': 4,\n",
       "    'options': [{'text': 'Thor',\n",
       "      '_index': 'movies',\n",
       "      '_type': '_doc',\n",
       "      '_id': 'zObMWoQBIpQmeSUKu8s0',\n",
       "      '_score': 1.0,\n",
       "      '_source': {'name': 'Thor', 'year': '2011'}},\n",
       "     {'text': 'Thor: Ragnarok',\n",
       "      '_index': 'movies',\n",
       "      '_type': '_doc',\n",
       "      '_id': 'v-bMWoQBIpQmeSUKusvG',\n",
       "      '_score': 1.0,\n",
       "      '_source': {'name': 'Thor: Ragnarok', 'year': '2017'}},\n",
       "     {'text': 'Thor: The Dark World',\n",
       "      '_index': 'movies',\n",
       "      '_type': '_doc',\n",
       "      '_id': 'yObMWoQBIpQmeSUKu8sU',\n",
       "      '_score': 1.0,\n",
       "      '_source': {'name': 'Thor: The Dark World', 'year': '2013'}}]}]}}"
      ]
     },
     "execution_count": 77,
     "metadata": {},
     "output_type": "execute_result"
    }
   ],
   "source": [
    "es.search(index=es_index, body=body)"
   ]
  },
  {
   "cell_type": "code",
   "execution_count": 78,
   "id": "e8fb1225",
   "metadata": {},
   "outputs": [],
   "source": [
    "body = {\n",
    "  \"suggest\": {\n",
    "    \"movie-suggest\": {\n",
    "      \"prefix\": \"iro\",\n",
    "      \"completion\": {\n",
    "        \"field\": \"name\",\n",
    "        \"size\": 10\n",
    "      }\n",
    "    }\n",
    "  }\n",
    "}"
   ]
  },
  {
   "cell_type": "code",
   "execution_count": 79,
   "id": "7c532942",
   "metadata": {},
   "outputs": [
    {
     "data": {
      "text/plain": [
       "{'took': 3,\n",
       " 'timed_out': False,\n",
       " '_shards': {'total': 1, 'successful': 1, 'skipped': 0, 'failed': 0},\n",
       " 'hits': {'total': {'value': 0, 'relation': 'eq'},\n",
       "  'max_score': None,\n",
       "  'hits': []},\n",
       " 'suggest': {'movie-suggest': [{'text': 'iro',\n",
       "    'offset': 0,\n",
       "    'length': 3,\n",
       "    'options': [{'text': 'Iron Man',\n",
       "      '_index': 'movies',\n",
       "      '_type': '_doc',\n",
       "      '_id': 'z-bMWoQBIpQmeSUKu8tM',\n",
       "      '_score': 1.0,\n",
       "      '_source': {'name': 'Iron Man', 'year': '2008'}},\n",
       "     {'text': 'Iron Man 2',\n",
       "      '_index': 'movies',\n",
       "      '_type': '_doc',\n",
       "      '_id': 'zebMWoQBIpQmeSUKu8s9',\n",
       "      '_score': 1.0,\n",
       "      '_source': {'name': 'Iron Man 2', 'year': '2010'}},\n",
       "     {'text': 'Iron Man 3',\n",
       "      '_index': 'movies',\n",
       "      '_type': '_doc',\n",
       "      '_id': 'yebMWoQBIpQmeSUKu8sc',\n",
       "      '_score': 1.0,\n",
       "      '_source': {'name': 'Iron Man 3', 'year': '2013'}}]}]}}"
      ]
     },
     "execution_count": 79,
     "metadata": {},
     "output_type": "execute_result"
    }
   ],
   "source": [
    "es.search(index=es_index, body=body)"
   ]
  },
  {
   "cell_type": "code",
   "execution_count": null,
   "id": "71fdcffb",
   "metadata": {
    "scrolled": true
   },
   "outputs": [],
   "source": []
  },
  {
   "cell_type": "code",
   "execution_count": null,
   "id": "7128976a",
   "metadata": {},
   "outputs": [],
   "source": []
  }
 ],
 "metadata": {
  "kernelspec": {
   "display_name": "Python 3",
   "language": "python",
   "name": "python3"
  },
  "language_info": {
   "codemirror_mode": {
    "name": "ipython",
    "version": 3
   },
   "file_extension": ".py",
   "mimetype": "text/x-python",
   "name": "python",
   "nbconvert_exporter": "python",
   "pygments_lexer": "ipython3",
   "version": "3.8.8"
  }
 },
 "nbformat": 4,
 "nbformat_minor": 5
}
